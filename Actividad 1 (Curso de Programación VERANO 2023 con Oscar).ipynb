{
  "nbformat": 4,
  "nbformat_minor": 0,
  "metadata": {
    "colab": {
      "provenance": []
    },
    "kernelspec": {
      "name": "python3",
      "display_name": "Python 3"
    },
    "language_info": {
      "name": "python"
    }
  },
  "cells": [
    {
      "cell_type": "code",
      "execution_count": null,
      "metadata": {
        "id": "aXNR_1ljI3kw"
      },
      "outputs": [],
      "source": []
    },
    {
      "cell_type": "markdown",
      "source": [
        "# **Actividad 1 - ElProfessor Bootcamps (Python) - Summer 2023**"
      ],
      "metadata": {
        "id": "Ss9r_xTQCJO-"
      }
    },
    {
      "cell_type": "markdown",
      "source": [
        "**Guarda el Archvo con el formato **\n",
        "\n",
        "> Bruno de la Fuente Barrera\n",
        "\n",
        "* ### **Actividad 1 - ElProfessor Bootcamps (Python) - TU NOMBRE - Summer 2023**"
      ],
      "metadata": {
        "id": "yzz6wInRCZVu"
      }
    },
    {
      "cell_type": "markdown",
      "source": [
        "## **Temas Vistos**"
      ],
      "metadata": {
        "id": "Gp3Ail7xTMEG"
      }
    },
    {
      "cell_type": "markdown",
      "source": [
        "* Variables\n",
        "* Comentarios\n",
        "* Print\n",
        "* Data Types\n",
        "* Inputing Data from Users\n",
        "\n",
        "\n",
        "* If/Elif/Else\n",
        "\n",
        "* Ciclo For\n",
        "* Ciclo While\n",
        "\n",
        "* Importar liberias"
      ],
      "metadata": {
        "id": "f2V6wvAwTPj8"
      }
    },
    {
      "cell_type": "markdown",
      "source": [
        "* Recursion\n",
        "* Funciones\n",
        "* Funciones Lambda\n",
        "\n"
      ],
      "metadata": {
        "id": "TPrqs4pQUV0J"
      }
    },
    {
      "cell_type": "markdown",
      "source": [
        "**Variables, Print y Comenarios**"
      ],
      "metadata": {
        "id": "fi2H8GY0Vn5L"
      }
    },
    {
      "cell_type": "code",
      "source": [
        "# El objetivo de este ejercicio es crear dos variables, asignarles un valor y luego imprimir el resultado.\n",
        "\n",
        "# Crea dos variables, 'nombre' y 'edad'. Asigna tu nombre a 'nombre' y tu edad a 'edad'.\n",
        "nombre =  \"Bruno\"\n",
        "edad = \"18\"\n",
        "\n",
        "# Ahora imprime las variables en un mensaje.\n",
        "print('Hola, mi nombre es', nombre, 'y tengo', edad, 'años.')"
      ],
      "metadata": {
        "id": "gLp5W3P-Ytmu",
        "colab": {
          "base_uri": "https://localhost:8080/"
        },
        "outputId": "79a7b806-734e-46fb-92fa-43ed64b19498"
      },
      "execution_count": null,
      "outputs": [
        {
          "output_type": "stream",
          "name": "stdout",
          "text": [
            "Hola, mi nombre es Bruno y tengo 18 años.\n"
          ]
        }
      ]
    },
    {
      "cell_type": "markdown",
      "source": [
        "**Data Types**"
      ],
      "metadata": {
        "id": "Aogn2CZ_WBeI"
      }
    },
    {
      "cell_type": "code",
      "source": [
        "# El objetivo de este ejercicio es entender los diferentes tipos de datos en Python.\n",
        "\n",
        "# Define las siguientes variables y luego imprime su tipo usando la función type().\n",
        "un_numero = 13\n",
        "una_cadena =  \"¡Hola Python!\" # string\n",
        "un_booleano = \"Hola\" != \"Saludos\"\n",
        "una_lista = [3,4,5,6]\n",
        "una_tupla = (1,2,3,4,5)\n",
        "un_diccionario = {\"Nombre\":\"Bruno\", \"Edad\":18, \"Apellido\":\"de la Fuente Barrera\", \"Deporte Favorito\": \"Boxeo\"}\n",
        "\n",
        "print(type(un_numero))\n",
        "print(type(una_cadena))\n",
        "print(type(un_booleano))\n",
        "print(type(una_lista))\n",
        "print(type(una_tupla))\n",
        "print(type(un_diccionario))\n"
      ],
      "metadata": {
        "id": "xXCLXMWJZLhV",
        "colab": {
          "base_uri": "https://localhost:8080/"
        },
        "outputId": "a6ae6e64-f55b-4b3a-982e-74278f3e232f"
      },
      "execution_count": null,
      "outputs": [
        {
          "output_type": "stream",
          "name": "stdout",
          "text": [
            "<class 'int'>\n",
            "<class 'str'>\n",
            "<class 'bool'>\n",
            "<class 'list'>\n",
            "<class 'tuple'>\n",
            "<class 'dict'>\n"
          ]
        }
      ]
    },
    {
      "cell_type": "markdown",
      "source": [
        "**Inputing Data from Users**"
      ],
      "metadata": {
        "id": "MSqOn1IbWGh8"
      }
    },
    {
      "cell_type": "code",
      "source": [
        "# El objetivo de este ejercicio es obtener datos del usuario.\n",
        "\n",
        "# Usa la función input() para obtener el nombre del usuario y asignarlo a la variable 'nombre_usuario'\n",
        "nombre_usuario = input(\"¿Cual es tu nombre?\")\n",
        "\n",
        "# Ahora haz lo mismo para la edad del usuario. Recuerda convertir la entrada a int ya que input() devuelve una cadena.\n",
        "edad_usuario = input(\"¿Qu edad tienes?\")\n",
        "# Ahora imprime un mensaje que incluya el nombre y la edad del usuario.\n",
        "print('Hola,', nombre_usuario + '! Tienes', edad_usuario, 'años.')\n"
      ],
      "metadata": {
        "id": "-QffXU8qZ2Kq",
        "colab": {
          "base_uri": "https://localhost:8080/"
        },
        "outputId": "d25bdfb7-cc19-4492-eeeb-bbe404797309"
      },
      "execution_count": null,
      "outputs": [
        {
          "output_type": "stream",
          "name": "stdout",
          "text": [
            "¿Cual es tu nombre?Bruno\n",
            "¿Qu edad tienes?18\n",
            "Hola, Bruno! Tienes 18 años.\n"
          ]
        }
      ]
    },
    {
      "cell_type": "markdown",
      "source": [
        "**If/Elif/Else**"
      ],
      "metadata": {
        "id": "UwkBFUHFWLYn"
      }
    },
    {
      "cell_type": "code",
      "source": [
        "# El objetivo de este ejercicio es usar if/elif/else para categorizar la edad del usuario.\n",
        "\n",
        "edad = int(input('Por favor, introduce tu edad:'))\n",
        "if edad <18:\n",
        "  print(\"No puedes tomar alcohol en ningún país\")\n",
        "elif edad >=18 and edad <21:\n",
        "  print(\"Puedes tomar alcohol en todos los países menos USA\")\n",
        "elif edad >=21:\n",
        "  print(\"Puedes tomar alcohol en todos los paises incluyendo USA\")\n",
        "else: print(\"Con estos datos no te puedo proporcionar información\")\n"
      ],
      "metadata": {
        "id": "WYkpzCz5Z3Xq",
        "colab": {
          "base_uri": "https://localhost:8080/"
        },
        "outputId": "78f5b9df-f245-404c-db29-fddc05cad8a9"
      },
      "execution_count": null,
      "outputs": [
        {
          "output_type": "stream",
          "name": "stdout",
          "text": [
            "Por favor, introduce tu edad:21\n",
            "Puedes tomar alcohol en todos los paises incluyendo USA\n"
          ]
        }
      ]
    },
    {
      "cell_type": "markdown",
      "source": [
        "**Ciclo For**"
      ],
      "metadata": {
        "id": "IvS1FOleWQHl"
      }
    },
    {
      "cell_type": "code",
      "source": [
        "# El objetivo de este ejercicio es utilizar un ciclo for para imprimir los MULTIPLOS DE 7 del 1 al 100.\n",
        "# 7,14,21,\n",
        "\"\"\"\n",
        "for i in range(1, 11):\n",
        "    print(i)\n",
        "\"\"\"\n",
        "\n",
        "for numero in range(7,100+1,7):\n",
        "  print(numero)\n"
      ],
      "metadata": {
        "id": "gYRJwe5paNJE",
        "colab": {
          "base_uri": "https://localhost:8080/"
        },
        "outputId": "bcdf4ef5-0a73-4c6a-ab5f-cf8c68010754"
      },
      "execution_count": 14,
      "outputs": [
        {
          "output_type": "stream",
          "name": "stdout",
          "text": [
            "7\n",
            "14\n",
            "21\n",
            "28\n",
            "35\n",
            "42\n",
            "49\n",
            "56\n",
            "63\n",
            "70\n",
            "77\n",
            "84\n",
            "91\n",
            "98\n"
          ]
        }
      ]
    },
    {
      "cell_type": "code",
      "source": [
        "# Este ejercicio tiene como objetivo utilizar un ciclo for para imprimir la tabla de multiplicar de un número.\n",
        "\n",
        "# input: 22\n",
        "# 22x1=22\n",
        "# 22x2=44\n",
        "# ...\n",
        "# 22x10=220\n",
        "numerodelaTablaM = int(input('Introduce un número para obtener su tabla de multiplicar: '))\n",
        "for numero in range (1,10+1):\n",
        "  resultado=numerodelaTablaM*numero\n",
        "  print(f\"{numerodelaTablaM} * {numero} = {resultado}\")\n",
        "\n"
      ],
      "metadata": {
        "id": "yQWuBI-3aNrG",
        "colab": {
          "base_uri": "https://localhost:8080/"
        },
        "outputId": "39cc78a2-862f-45ae-ed0c-0fa65bcd0b85"
      },
      "execution_count": 1,
      "outputs": [
        {
          "output_type": "stream",
          "name": "stdout",
          "text": [
            "Introduce un número para obtener su tabla de multiplicar: 1\n",
            "1 * 1 = 1\n",
            "1 * 2 = 2\n",
            "1 * 3 = 3\n",
            "1 * 4 = 4\n",
            "1 * 5 = 5\n",
            "1 * 6 = 6\n",
            "1 * 7 = 7\n",
            "1 * 8 = 8\n",
            "1 * 9 = 9\n",
            "1 * 10 = 10\n"
          ]
        }
      ]
    },
    {
      "cell_type": "markdown",
      "source": [
        "**Ciclo While**"
      ],
      "metadata": {
        "id": "1u4UTwzTWU1s"
      }
    },
    {
      "cell_type": "code",
      "source": [
        "# El objetivo de este ejercicio es usar un ciclo while para sumar números hasta que la suma sea mayor que 100.    (NO SE EN QUE ME EQUIVOQUE)\n",
        "\"\"\"\n",
        "suma = 0\n",
        "numero = 1\n",
        "\"\"\"\n",
        "\n",
        "# input del usuario que cambie el número\n",
        "# input: 10\n",
        "# suma= numero  + suma\n",
        "# suma<100\n",
        "limite= int(input(\"Ingresa un numero:\"))\n",
        "suma = 0\n",
        "numero = 1\n",
        "while suma <=100:\n",
        "  suma += numero\n",
        "  numero += 1\n",
        "print('La suma de los primeros', numero, 'números es mayor que 100 y es igual a', suma)\n"
      ],
      "metadata": {
        "id": "6_3Mmx9KaR5d",
        "colab": {
          "base_uri": "https://localhost:8080/"
        },
        "outputId": "7b6bd5e5-3496-4c06-8d58-8eb869de3bf4"
      },
      "execution_count": 23,
      "outputs": [
        {
          "output_type": "stream",
          "name": "stdout",
          "text": [
            "Ingresa un numero:80\n",
            "La suma de los primeros 15 números es mayor que 100 y es igual a 105\n"
          ]
        }
      ]
    },
    {
      "cell_type": "code",
      "source": [
        "# Este ejercicio tiene como objetivo utilizar un ciclo while para implementar un programa simple de adivinación de números.\n",
        "\n",
        "numero_secreto = 7\n",
        "adivinanza = int(input('Adivina un número entre 1 y 10: '))\n",
        "if adivinanza== 7:\n",
        "  print('¡Correcto! El número secreto era', numero_secreto)\n",
        "else:\n",
        "  print(\"Te has equivocado, pero lo puedes intentar otra vez\")\n"
      ],
      "metadata": {
        "id": "S92sID2caVel",
        "colab": {
          "base_uri": "https://localhost:8080/"
        },
        "outputId": "7f9f8f73-e8f4-4fb4-8c6b-38346b097376"
      },
      "execution_count": 3,
      "outputs": [
        {
          "output_type": "stream",
          "name": "stdout",
          "text": [
            "Adivina un número entre 1 y 10: 7\n",
            "¡Correcto! El número secreto era 7\n"
          ]
        }
      ]
    },
    {
      "cell_type": "markdown",
      "source": [
        "**Importar liberias**"
      ],
      "metadata": {
        "id": "ua_YWYfpWXWD"
      }
    },
    {
      "cell_type": "code",
      "source": [
        "# El objetivo de este ejercicio es importar la librería math y usarla para calcular la raíz cuadrada de un número.\n",
        "\n",
        "import math\n",
        "\n",
        "numero = 25\n",
        "raiz_cuadrada = math.sqrt(numero)\n",
        "print(f'La raíz cuadrada de {numero} es {raiz_cuadrada}')\n"
      ],
      "metadata": {
        "id": "au5FA-1iadzT",
        "colab": {
          "base_uri": "https://localhost:8080/"
        },
        "outputId": "e3bc4356-2167-4c16-9f21-151bfef10a40"
      },
      "execution_count": 5,
      "outputs": [
        {
          "output_type": "stream",
          "name": "stdout",
          "text": [
            "La raíz cuadrada de 25 es 5.0\n"
          ]
        }
      ]
    },
    {
      "cell_type": "markdown",
      "source": [
        "**Recursion**"
      ],
      "metadata": {
        "id": "q4arIBP6WfLG"
      }
    },
    {
      "cell_type": "code",
      "source": [
        "# El objetivo de este ejercicio es escribir una función recursiva para calcular el factorial de un número.\n",
        "\n",
        "# 5! = 5*4!\n",
        "# 4! = 4*3!\n",
        "# Base case: Caso base\n",
        "import math\n",
        "\n",
        "def factorial(n):\n",
        "    if n == 0 or n == 1:\n",
        "        return 1\n",
        "    else:\n",
        "        return n * factorial(n - 1)\n",
        "numero = 5\n",
        "print(f'El factorial de {numero} es {factorial(numero)}')\n"
      ],
      "metadata": {
        "id": "5LzVTZWEbHK-",
        "colab": {
          "base_uri": "https://localhost:8080/"
        },
        "outputId": "aea85033-4af2-4954-9c53-04c041829e4b"
      },
      "execution_count": 21,
      "outputs": [
        {
          "output_type": "stream",
          "name": "stdout",
          "text": [
            "El factorial de 5 es 120\n"
          ]
        }
      ]
    },
    {
      "cell_type": "markdown",
      "source": [
        "**Funciones**"
      ],
      "metadata": {
        "id": "KbyK6ExeWheJ"
      }
    },
    {
      "cell_type": "code",
      "source": [
        "# El objetivo de este ejercicio es escribir una función que convierta grados Celsius a Fahrenheit.\n",
        "# farenheit= celsius*(9/5)+32\n",
        "\n",
        "# return farenheit\n",
        "def celsius_a_fahrenheit(celsius):\n",
        "    fahrenheit = celsius * (9/5) + 32\n",
        "    return fahrenheit\n",
        "grados_celsius = 20\n",
        "print(f'{grados_celsius} grados Celsius son {celsius_a_fahrenheit(grados_celsius)} grados Fahrenheit')\n"
      ],
      "metadata": {
        "id": "49iEwh-abLa5",
        "colab": {
          "base_uri": "https://localhost:8080/"
        },
        "outputId": "9ce8ab4f-58ef-4960-a9bf-8c56695f2978"
      },
      "execution_count": 12,
      "outputs": [
        {
          "output_type": "stream",
          "name": "stdout",
          "text": [
            "20 grados Celsius son 68.0 grados Fahrenheit\n"
          ]
        }
      ]
    },
    {
      "cell_type": "markdown",
      "source": [
        "**Funciones Lambda**"
      ],
      "metadata": {
        "id": "kuWa0SbnW8Rv"
      }
    },
    {
      "cell_type": "code",
      "source": [
        "# El objetivo de este ejercicio es usar una función lambda para calcular el cuadrado de un número.\n",
        "\n",
        "\n",
        "\n",
        "numero = 7\n",
        "cuadrado = lambda x: x ** 2\n",
        "print(f'El cuadrado de {numero} es {cuadrado(numero)}')\n"
      ],
      "metadata": {
        "id": "5UZj1Mo8bMc3",
        "colab": {
          "base_uri": "https://localhost:8080/"
        },
        "outputId": "c8a419fb-5b3f-45b8-dddc-12e61152c9a1"
      },
      "execution_count": 13,
      "outputs": [
        {
          "output_type": "stream",
          "name": "stdout",
          "text": [
            "El cuadrado de 7 es 49\n"
          ]
        }
      ]
    },
    {
      "cell_type": "markdown",
      "source": [
        "## **Simple Data Structures**"
      ],
      "metadata": {
        "id": "MpL7hMVhUati"
      }
    },
    {
      "cell_type": "markdown",
      "source": [
        "* Listas\n",
        "* Strings\n",
        "* Tuples\n",
        "* Dictionaries"
      ],
      "metadata": {
        "id": "J8-A8ZktUfpq"
      }
    },
    {
      "cell_type": "markdown",
      "source": [
        "**Listas**"
      ],
      "metadata": {
        "id": "p1UZwXrmW_G7"
      }
    },
    {
      "cell_type": "code",
      "source": [
        "# El objetivo de este ejercicio es crear una lista, agregarle elementos, eliminarlos y modificarlos.\n",
        "\n",
        "# Crea una lista vacía llamada 'mi_lista'\n",
        "mi_lista =[]\n",
        "\n",
        "# Agrega los números 5, 10 y 15 a la lista\n",
        "mi_lista.append(5)\n",
        "mi_lista.append(10)\n",
        "mi_lista.append(15)\n",
        "\n",
        "# Elimina el número 10 de la lista\n",
        "mi_lista.remove(10)\n",
        "\n",
        "# Cambia el último elemento de la lista por 20\n",
        "mi_lista[-1]=20\n",
        "\n",
        "print(mi_lista)  # Debería imprimir [5, 20]\n"
      ],
      "metadata": {
        "id": "Ac8kivK3bZDm",
        "colab": {
          "base_uri": "https://localhost:8080/"
        },
        "outputId": "e848d03c-6503-484a-883d-b609cf71bc34"
      },
      "execution_count": 1,
      "outputs": [
        {
          "output_type": "stream",
          "name": "stdout",
          "text": [
            "[5, 20]\n"
          ]
        }
      ]
    },
    {
      "cell_type": "markdown",
      "source": [
        "**Strings**"
      ],
      "metadata": {
        "id": "Ty99MGglXD3w"
      }
    },
    {
      "cell_type": "code",
      "source": [
        "# El objetivo de este ejercicio es trabajar con cadenas de texto.\n",
        "\n",
        "mi_cadena = \"¡Hola, mundo!\"\n",
        "\n",
        "# Imprime la longitud de la cadena\n",
        "print(\"Longitud de la cadena:\", len(mi_cadena))\n",
        "\n",
        "# Imprime la cadena en mayúsculas\n",
        "print(\"Cadena en mayúsculas:\", mi_cadena.upper())\n",
        "\n",
        "# Imprime la cadena en minúsculas\n",
        "print(\"Cadena en minúsculas:\", mi_cadena.lower())\n",
        "\n",
        "# Imprime la cadena al revés\n",
        "print(\"Cadena al revés:\", mi_cadena[::-1])\n"
      ],
      "metadata": {
        "id": "fQ_bkLHyb85t"
      },
      "execution_count": null,
      "outputs": []
    },
    {
      "cell_type": "markdown",
      "source": [
        "**Tuples**"
      ],
      "metadata": {
        "id": "QbeXN3cTXHr6"
      }
    },
    {
      "cell_type": "code",
      "source": [
        "# El objetivo de este ejercicio es trabajar con tuplas.\n",
        "\n",
        "mi_tupla = (10, 20, 30)\n",
        "\n",
        "# Imprime el primer elemento de la tupla\n",
        "print(\"Primer elemento:\", mi_tupla[0])\n",
        "\n",
        "# Imprime el último elemento de la tupla\n",
        "print(\"Último elemento:\", mi_tupla[-1])\n",
        "\n",
        "# Intenta cambiar el primer elemento de la tupla por 5\n",
        "# Esto debería dar un error, ya que las tuplas son inmutables.\n",
        "# Descomenta la siguiente línea para probarlo.\n",
        "# mi_tupla[0] = 5\n"
      ],
      "metadata": {
        "id": "q30Ojj7-b-4y",
        "colab": {
          "base_uri": "https://localhost:8080/"
        },
        "outputId": "1ff867a7-9cce-4ddd-bead-52f89bc3ecd6"
      },
      "execution_count": 2,
      "outputs": [
        {
          "output_type": "stream",
          "name": "stdout",
          "text": [
            "Primer elemento: 10\n",
            "Último elemento: 30\n"
          ]
        }
      ]
    },
    {
      "cell_type": "markdown",
      "source": [
        "**Dictionaries**"
      ],
      "metadata": {
        "id": "t6s_l5aDXKay"
      }
    },
    {
      "cell_type": "code",
      "source": [
        "# El objetivo de este ejercicio es crear un diccionario, agregarle elementos, eliminarlos y modificarlos.\n",
        "\n",
        "# Crea un diccionario vacío llamado 'mi_diccionario'\n",
        "mi_diccionario = {}\n",
        "\n",
        "# Agrega al diccionario una clave 'nombre' con valor 'Juan'\n",
        "mi_diccionario[\"nombre\"] = \"Juan\"\n",
        "\n",
        "# Agrega una clave 'edad' con valor 20\n",
        "mi_diccionario[\"edad\"] = \"20\"\n",
        "\n",
        "# Imprime el diccionario\n",
        "print(mi_diccionario)\n",
        "\n",
        "# Modifica el valor de la clave 'nombre' a 'Carlos'\n",
        "mi_diccionario[\"nombre\"] = \"Carlos\"\n",
        "\n",
        "# Imprime el diccionario\n",
        "print(mi_diccionario)\n",
        "\n",
        "# Elimina la clave 'edad'\n",
        "del mi_diccionario[\"edad\"]\n",
        "\n",
        "# Imprime el diccionario\n",
        "print(mi_diccionario)\n"
      ],
      "metadata": {
        "id": "fuEucrTHcdJV",
        "colab": {
          "base_uri": "https://localhost:8080/"
        },
        "outputId": "0d29ab7a-b0ce-47c7-c906-8461f6a66a7d"
      },
      "execution_count": 3,
      "outputs": [
        {
          "output_type": "stream",
          "name": "stdout",
          "text": [
            "{'nombre': 'Juan', 'edad': '20'}\n",
            "{'nombre': 'Carlos', 'edad': '20'}\n",
            "{'nombre': 'Carlos'}\n"
          ]
        }
      ]
    },
    {
      "cell_type": "code",
      "source": [
        "# El objetivo de este ejercicio es utilizar un diccionario para contar la frecuencia de las palabras en una lista.\n",
        "\n",
        "palabras = ['manzana', 'naranja', 'platano', 'manzana', 'naranja', 'manzana']\n",
        "frecuencia = {}\n",
        "for palabra in palabras:\n",
        "  if palabra in frecuencia:\n",
        "    frecuencia[palabra] += 1\n",
        "  else:\n",
        "    frecuencia[palabra] =1\n",
        "\n",
        "\n",
        "print(frecuencia)  # Debería imprimir {'manzana': 3, 'naranja': 2, 'platano': 1}\n"
      ],
      "metadata": {
        "id": "gU7OET0McdjT",
        "colab": {
          "base_uri": "https://localhost:8080/"
        },
        "outputId": "e9302243-db39-4ff9-9fda-dc2e43c8d3c0"
      },
      "execution_count": 4,
      "outputs": [
        {
          "output_type": "stream",
          "name": "stdout",
          "text": [
            "{'manzana': 3, 'naranja': 2, 'platano': 1}\n"
          ]
        }
      ]
    },
    {
      "cell_type": "code",
      "source": [
        "# El objetivo de este ejercicio es escribir una función que tome un diccionario y una clave, y devuelva el valor asociado a la clave si está en el diccionario, o 'No encontrado' si no está.\n",
        "\n",
        "def obtener_valor(diccionario, clave):\n",
        "  if clave in diccionario:\n",
        "    return diccionario[clave]\n",
        "  else:\n",
        "    return \"No encontrado\"\n",
        "mi_diccionario = {'nombre': 'Juan', 'edad': 20}\n",
        "\n",
        "print(obtener_valor(mi_diccionario, 'nombre'))  # Debería imprimir 'Juan'\n",
        "print(obtener_valor(mi_diccionario, 'altura'))  # Debería imprimir 'No encontrado'\n"
      ],
      "metadata": {
        "id": "vZliKagkcfST",
        "colab": {
          "base_uri": "https://localhost:8080/"
        },
        "outputId": "3ceccc41-beb9-423e-f4d2-b7fa255e5050"
      },
      "execution_count": 6,
      "outputs": [
        {
          "output_type": "stream",
          "name": "stdout",
          "text": [
            "Juan\n",
            "No encontrado\n"
          ]
        }
      ]
    },
    {
      "cell_type": "markdown",
      "source": [
        "## **Programación Orientada a Objetos**"
      ],
      "metadata": {
        "id": "DuUNsasGVAKM"
      }
    },
    {
      "cell_type": "markdown",
      "source": [
        "* Clases\n",
        "* Objetos/Instancias\n",
        "* Métodos\n",
        "* Atributos\n",
        "* self"
      ],
      "metadata": {
        "id": "0upILMRPVVys"
      }
    },
    {
      "cell_type": "markdown",
      "source": [
        "* Herencia Multinivel\n",
        "* Herencia Multiple\n",
        "* Polimorfismos\n",
        "* Encapsulación"
      ],
      "metadata": {
        "id": "wAHpiOpGVcK-"
      }
    },
    {
      "cell_type": "code",
      "source": [
        "# Crea una clase llamada Estudiante.\n",
        "class Estudiante:\n",
        "  def __init__(self, nombre, edad):\n",
        "        self.nombre = nombre\n",
        "        self.edad = edad\n",
        "    # Define el método __init__ que toma self, nombre y edad como argumentos.\n",
        "    # Estos son los atributos de la clase.\n",
        "\n",
        "\n",
        "# Crea una instancia de la clase Estudiante con nombre 'Juan' y edad 20.\n",
        "juan = Estudiante('Juan', 20)\n",
        "\n",
        "# Imprime el nombre y la edad de Juan.\n",
        "print(juan.nombre)  # Debería imprimir 'Juan'\n",
        "print(juan.edad)  # Debería imprimir 20\n"
      ],
      "metadata": {
        "id": "4cUACJj2dxmL",
        "colab": {
          "base_uri": "https://localhost:8080/"
        },
        "outputId": "c3d5b119-e01d-4136-d84f-78b05f08aa90"
      },
      "execution_count": 7,
      "outputs": [
        {
          "output_type": "stream",
          "name": "stdout",
          "text": [
            "Juan\n",
            "20\n"
          ]
        }
      ]
    },
    {
      "cell_type": "code",
      "source": [
        "# Ahora, agrega un método a la clase Estudiante.\n",
        "class Estudiante:\n",
        "  def __init__(self, nombre, edad):\n",
        "        self.nombre = nombre\n",
        "        self.edad = edad\n",
        "    # Define un método llamado celebrar_cumpleanos que aumenta la edad del estudiante en 1.\n",
        "  def celebrar_cumpleanos(self):\n",
        "        self.edad += 1\n",
        "# Crea una instancia de la clase Estudiante con nombre 'Juan' y edad 20.\n",
        "juan = Estudiante('Juan', 20)\n",
        "\n",
        "# Llama al método celebrar_cumpleanos.\n",
        "juan.celebrar_cumpleanos()\n",
        "\n",
        "# Imprime la edad de Juan.\n",
        "print(juan.edad)  # Debería imprimir 21\n"
      ],
      "metadata": {
        "id": "h9fqGJFmdzOK",
        "colab": {
          "base_uri": "https://localhost:8080/"
        },
        "outputId": "08afc747-410c-4f21-d075-5bad4804ff57"
      },
      "execution_count": 10,
      "outputs": [
        {
          "output_type": "stream",
          "name": "stdout",
          "text": [
            "21\n"
          ]
        }
      ]
    },
    {
      "cell_type": "markdown",
      "source": [
        "Sgunda Parte POO"
      ],
      "metadata": {
        "id": "fmmO5mWSeMsK"
      }
    },
    {
      "cell_type": "code",
      "source": [
        "# Escribe una clase persona\n",
        "class Persona:\n",
        "  def __init__(self, nombre):\n",
        "        self.nombre = nombre\n",
        "\n",
        "  # Metodo __init__ con argumeto nombre y atributo nombre\n",
        "\n",
        "\n",
        "    # Metodo que salude\n",
        "  def saludo(self):\n",
        "        return f\"Hola, soy {self.nombre}\"\n",
        "\n",
        "# Clase que herede de Persona\n",
        "\n",
        "class Empleado(Persona):\n",
        "    def __init__(self, nombre, puesto):\n",
        "        super().__init__(nombre)\n",
        "        self.puesto = puesto\n",
        "\n",
        "    def saludo(self):\n",
        "        return f\"{super().saludo()} y soy un empleado\"\n",
        "\n",
        "class Gerente(Empleado):\n",
        "    def __init__(self, nombre, puesto, departamento):\n",
        "        super().__init__(nombre, puesto)\n",
        "        self.departamento = departamento\n",
        "\n",
        "    def saludo(self):\n",
        "        return f\"{super().saludo()} y soy gerente del departamento de {self.departamento}\"\n",
        "\n",
        "gerente = Gerente(\"Carlos\", \"Gerente\", \"Ventas\")\n",
        "print(gerente.saludo())  # Debería imprimir \"Hola, soy Carlos y soy un empleado y soy gerente del departamento de Ventas\"\n"
      ],
      "metadata": {
        "id": "WGFU_-uVeOeb",
        "colab": {
          "base_uri": "https://localhost:8080/"
        },
        "outputId": "9da2a698-3a68-45c9-94d1-65fec9a79f95"
      },
      "execution_count": 11,
      "outputs": [
        {
          "output_type": "stream",
          "name": "stdout",
          "text": [
            "Hola, soy Carlos y soy un empleado y soy gerente del departamento de Ventas\n"
          ]
        }
      ]
    },
    {
      "cell_type": "code",
      "source": [
        "class Nadador:\n",
        "    def nadar(self):\n",
        "        return \"Nado como un pez\"\n",
        "\n",
        "class Corredor:\n",
        "    def correr(self):\n",
        "        return \"Corro como el viento\"\n",
        "\n",
        "# Pon la clase Triatleta con herencia multiple\n",
        "class Triatleta(Nadador, Corredor):\n",
        "# Metodo competir\n",
        "    def competir(self):\n",
        "        return f\"{self.nadar()} y {self.correr()}\"\n",
        "\n",
        "triatleta = Triatleta()\n",
        "print(triatleta.competir())  # Debería imprimir \"Nado como un pez y Corro como el viento\"\n"
      ],
      "metadata": {
        "id": "Zjk6Xwp0ePOq",
        "colab": {
          "base_uri": "https://localhost:8080/"
        },
        "outputId": "6408d5d1-16d2-4ff8-a893-7e653211f672"
      },
      "execution_count": 12,
      "outputs": [
        {
          "output_type": "stream",
          "name": "stdout",
          "text": [
            "Nado como un pez y Corro como el viento\n"
          ]
        }
      ]
    },
    {
      "cell_type": "code",
      "source": [
        "# Haz Polimorfismo\n",
        "class Animal:\n",
        "    def sonido(self):\n",
        "        return \"El animal hace un sonido\"\n",
        "\n",
        "\n",
        "class Perro(Animal):\n",
        "  def sonido(self):\n",
        "        return \"El perro ladra\"\n",
        "  # Metodo sonido(self)   return \"El perro ladra\"\n",
        "\n",
        "class Gato(Animal):\n",
        "  def sonido(self):\n",
        "        return \"El gato maúlla\"\n",
        "  # Metodo sonido(self)  return \"El gato maúlla\"\n",
        "\n",
        "def hacer_sonido(animal):\n",
        "    return animal.sonido()\n",
        "\n",
        "perro = Perro()\n",
        "gato = Gato()\n",
        "\n",
        "print(hacer_sonido(perro))  # Debería imprimir \"El perro ladra\"\n",
        "print(hacer_sonido(gato))  # Debería imprimir \"El gato maúlla\"\n"
      ],
      "metadata": {
        "id": "kbpMI6hteTKT",
        "colab": {
          "base_uri": "https://localhost:8080/"
        },
        "outputId": "390a31bc-501f-48cf-b164-8a98bd1aa443"
      },
      "execution_count": 13,
      "outputs": [
        {
          "output_type": "stream",
          "name": "stdout",
          "text": [
            "El perro ladra\n",
            "El gato maúlla\n"
          ]
        }
      ]
    },
    {
      "cell_type": "code",
      "source": [
        "# SOLO corre la celda\n",
        "class Coche:\n",
        "    def __init__(self, marca, modelo, año):\n",
        "        self.__marca = marca\n",
        "        self.__modelo = modelo\n",
        "        self.__año = año\n",
        "\n",
        "    # getters\n",
        "    def get_marca(self):\n",
        "        return self.__marca\n",
        "\n",
        "    def get_modelo(self):\n",
        "        return self.__modelo\n",
        "\n",
        "    def get_año(self):\n",
        "        return self.__año\n",
        "\n",
        "    # setters\n",
        "    def set_marca(self, marca):\n",
        "        self.__marca = marca\n",
        "\n",
        "    def set_modelo(self, modelo):\n",
        "        self.__modelo = modelo\n",
        "\n",
        "    def set_año(self, año):\n",
        "        if año > 1900 and año <= 2023:\n",
        "            self.__año = año\n",
        "        else:\n",
        "            print(\"Año no válido\")\n",
        "\n",
        "mi_coche = Coche(\"Toyota\", \"Corolla\", 2020)\n",
        "print(mi_coche.get_marca())  # Debería imprimir \"Toyota\"\n",
        "mi_coche.set_año(2025)  # Debería imprimir \"Año no válido\"\n"
      ],
      "metadata": {
        "id": "H5XK7xzBeVvT",
        "colab": {
          "base_uri": "https://localhost:8080/"
        },
        "outputId": "95fe4289-efd1-4fdd-c30c-02f08e5c49f9"
      },
      "execution_count": 14,
      "outputs": [
        {
          "output_type": "stream",
          "name": "stdout",
          "text": [
            "Toyota\n",
            "Año no válido\n"
          ]
        }
      ]
    },
    {
      "cell_type": "markdown",
      "source": [
        "## **Matemáticas Discretas**"
      ],
      "metadata": {
        "id": "yvl8B6ECUu7v"
      }
    },
    {
      "cell_type": "markdown",
      "source": [
        "* Lógica Matemática\n",
        "\n",
        "* Regla aditiva y multiplicativa\n",
        "\n",
        "* Factorial\n",
        "\n",
        "* m elige n (Combinaciones y permutaciones)"
      ],
      "metadata": {
        "id": "2ofR15MNUxya"
      }
    },
    {
      "cell_type": "code",
      "source": [
        "# Escriba una función que tome dos valores booleanos (True o False) como argumentos y devuelva el resultado de su 'Y' lógico.\n",
        "\n",
        "def and_logico(a, b):\n",
        "    return a and b\n",
        "print(and_logico(True, False))  # Debería imprimir False\n"
      ],
      "metadata": {
        "id": "UXnYYa9ie0fX",
        "colab": {
          "base_uri": "https://localhost:8080/"
        },
        "outputId": "b0934888-eaa6-4811-9c4c-290ed0943b18"
      },
      "execution_count": 15,
      "outputs": [
        {
          "output_type": "stream",
          "name": "stdout",
          "text": [
            "False\n"
          ]
        }
      ]
    },
    {
      "cell_type": "code",
      "source": [
        "# Escriba una función que tome dos valores booleanos como argumentos y devuelva el resultado de su 'O' lógico.\n",
        "def or_logico(a, b):\n",
        "    return a or b\n",
        "print(or_logico(True, False))  # Debería imprimir True\n"
      ],
      "metadata": {
        "id": "5zHdVId4e1X_",
        "colab": {
          "base_uri": "https://localhost:8080/"
        },
        "outputId": "9e95120e-c8a3-419d-9543-58cf46b1a72b"
      },
      "execution_count": 16,
      "outputs": [
        {
          "output_type": "stream",
          "name": "stdout",
          "text": [
            "True\n"
          ]
        }
      ]
    },
    {
      "cell_type": "code",
      "source": [
        "# Supongamos que puedes comer 3 tipos de postres y cada postre tiene 2 variedades de sabor.\n",
        "# ¿Cuántas opciones de postres tienes? Usa la regla multiplicativa.\n",
        "tipos_de_postres = 3\n",
        "variedades_de_sabor = 2\n",
        "opciones_de_postres = tipos_de_postres * variedades_de_sabor\n",
        "print(opciones_de_postres)  # Debería imprimir 6\n"
      ],
      "metadata": {
        "id": "0ZpuTwgve3mx",
        "colab": {
          "base_uri": "https://localhost:8080/"
        },
        "outputId": "9cd8a3b2-c420-4905-bba1-078f12997de3"
      },
      "execution_count": 17,
      "outputs": [
        {
          "output_type": "stream",
          "name": "stdout",
          "text": [
            "6\n"
          ]
        }
      ]
    },
    {
      "cell_type": "code",
      "source": [
        "# Escriba una función que calcule el factorial de un número.\n",
        "def factorial(n):\n",
        "    if n == 0 or n == 1:\n",
        "        return 1\n",
        "    else:\n",
        "        return n * factorial(n - 1)\n",
        "print(factorial(5))  # Debería imprimir 120\n"
      ],
      "metadata": {
        "id": "xtelH-e6e5uY",
        "colab": {
          "base_uri": "https://localhost:8080/"
        },
        "outputId": "d083e426-9e93-4174-ecb9-c6e70ae3e32f"
      },
      "execution_count": 18,
      "outputs": [
        {
          "output_type": "stream",
          "name": "stdout",
          "text": [
            "120\n"
          ]
        }
      ]
    },
    {
      "cell_type": "code",
      "source": [
        "# Usando la función factorial que escribiste en el ejercicio anterior,\n",
        "# escribe una función que calcule las combinaciones de m elementos tomados de n en n (m elige n).\n",
        "def factorial(n):\n",
        "    if n == 0 or n == 1:\n",
        "        return 1\n",
        "    else:\n",
        "        return n * factorial(n - 1)\n",
        "\n",
        "def combinaciones(m, n):\n",
        "    if m >= n:\n",
        "        return factorial(m) // (factorial(n) * factorial(m - n))\n",
        "    else:\n",
        "        return 0\n",
        "print(combinaciones(5, 2))  # Debería imprimir 10\n"
      ],
      "metadata": {
        "id": "c3CxDnd4e7TQ",
        "colab": {
          "base_uri": "https://localhost:8080/"
        },
        "outputId": "5c76ec72-b064-4839-adf6-181b34bf100c"
      },
      "execution_count": 19,
      "outputs": [
        {
          "output_type": "stream",
          "name": "stdout",
          "text": [
            "10\n"
          ]
        }
      ]
    },
    {
      "cell_type": "markdown",
      "source": [
        "**Haz llegado al final FELICIDADES**"
      ],
      "metadata": {
        "id": "ZxHJ__KuU-vq"
      }
    }
  ]
}